{
 "cells": [
  {
   "cell_type": "code",
   "execution_count": 1,
   "metadata": {},
   "outputs": [
    {
     "name": "stdout",
     "output_type": "stream",
     "text": [
      "enter 1st value:2\n",
      "enter 2nd value:3\n",
      "enter 3rd value:6\n",
      "7.0\n"
     ]
    }
   ],
   "source": [
    "#1.WAP for the given expression: sqrt(a*a+b*b+c*c).\n",
    "\n",
    "import math\n",
    "a=int(input(\"enter 1st value:\"))\n",
    "b=int(input(\"enter 2nd value:\"))\n",
    "c=int(input(\"enter 3rd value:\"))\n",
    "d=math.sqrt(a*a+b*b+c*c)\n",
    "print(d)"
   ]
  },
  {
   "cell_type": "code",
   "execution_count": 2,
   "metadata": {},
   "outputs": [
    {
     "name": "stdout",
     "output_type": "stream",
     "text": [
      "enter a value:2\n",
      "-99.19630006628847\n"
     ]
    }
   ],
   "source": [
    "#2.WAP for the given expression: 2-y*(e**(2*y))+4*y.\n",
    "\n",
    "import math\n",
    "y=float(input(\"enter a value:\"))\n",
    "z=2-y*(math.exp(2*y))+4*y\n",
    "print(z)"
   ]
  },
  {
   "cell_type": "code",
   "execution_count": 3,
   "metadata": {},
   "outputs": [
    {
     "name": "stdout",
     "output_type": "stream",
     "text": [
      "enter 1st value:1\n",
      "enter 2nd value:2\n",
      "enter 3rd value:3\n",
      "enter 4th value:4\n",
      "1.0008329862557268\n"
     ]
    }
   ],
   "source": [
    "#3.WAP for the given expression: p+(q/((r+s)**4)).\n",
    "\n",
    "import math\n",
    "p=int(input(\"enter 1st value:\"))\n",
    "q=int(input(\"enter 2nd value:\"))\n",
    "r=int(input(\"enter 3rd value:\"))\n",
    "s=int(input(\"enter 4th value:\"))\n",
    "w=p+(q/(math.pow(r+s,4)))\n",
    "print(w)"
   ]
  },
  {
   "cell_type": "code",
   "execution_count": null,
   "metadata": {},
   "outputs": [],
   "source": []
  }
 ],
 "metadata": {
  "kernelspec": {
   "display_name": "Python 3",
   "language": "python",
   "name": "python3"
  },
  "language_info": {
   "codemirror_mode": {
    "name": "ipython",
    "version": 3
   },
   "file_extension": ".py",
   "mimetype": "text/x-python",
   "name": "python",
   "nbconvert_exporter": "python",
   "pygments_lexer": "ipython3",
   "version": "3.7.4"
  }
 },
 "nbformat": 4,
 "nbformat_minor": 2
}
