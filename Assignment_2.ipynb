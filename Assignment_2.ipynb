{
 "cells": [
  {
   "cell_type": "code",
   "execution_count": 1,
   "metadata": {},
   "outputs": [
    {
     "name": "stdout",
     "output_type": "stream",
     "text": [
      "(-3+0j)\n",
      "(-9+0j)\n"
     ]
    }
   ],
   "source": [
    "#Write a program to find out the quadratic equation.\n",
    "\n",
    "import cmath\n",
    "a=1\n",
    "b=6\n",
    "c=0\n",
    "x=-b+cmath.sqrt(b*b-4*a*c)/2*a\n",
    "print(x)\n",
    "y=-b-cmath.sqrt(b*b-4*a*c)/2*a\n",
    "print(y)"
   ]
  },
  {
   "cell_type": "code",
   "execution_count": 2,
   "metadata": {},
   "outputs": [
    {
     "name": "stdout",
     "output_type": "stream",
     "text": [
      "enter 1st number:1\n",
      "enter 2nd number:2\n",
      "enter 3rd number:3\n",
      "(-2+1.4142135623730951j)\n",
      "(-2-1.4142135623730951j)\n"
     ]
    }
   ],
   "source": [
    "#Write a program to find out the quadratic equation. \n",
    "\n",
    "import cmath\n",
    "a=float(input(\"enter 1st number:\"))\n",
    "b=float(input(\"enter 2nd number:\"))\n",
    "c=float(input(\"enter 3rd number:\"))\n",
    "x=-b+cmath.sqrt(b*b-4*a*c)/2*a\n",
    "print(x)\n",
    "y=-b-cmath.sqrt(b*b-4*a*c)/2*a\n",
    "print(y)"
   ]
  },
  {
   "cell_type": "code",
   "execution_count": null,
   "metadata": {},
   "outputs": [],
   "source": []
  }
 ],
 "metadata": {
  "kernelspec": {
   "display_name": "Python 3",
   "language": "python",
   "name": "python3"
  },
  "language_info": {
   "codemirror_mode": {
    "name": "ipython",
    "version": 3
   },
   "file_extension": ".py",
   "mimetype": "text/x-python",
   "name": "python",
   "nbconvert_exporter": "python",
   "pygments_lexer": "ipython3",
   "version": "3.7.4"
  }
 },
 "nbformat": 4,
 "nbformat_minor": 2
}
